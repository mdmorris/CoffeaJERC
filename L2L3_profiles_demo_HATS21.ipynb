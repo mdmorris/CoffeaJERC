{
 "cells": [
  {
   "cell_type": "markdown",
   "metadata": {},
   "source": [
    "# JEC profile plots\n",
    "\n",
    "Coffea 0.7.1 https://github.com/cms-jet/CoffeaJERC/blob/master/genL2L3.ipynb \n",
    "\n",
    "and [nanoevents.ipynb](https://github.com/CoffeaTeam/coffea/blob/master/binder/nanoevents.ipynb) to illustrate profile plots"
   ]
  },
  {
   "cell_type": "code",
   "execution_count": 1,
   "metadata": {},
   "outputs": [
    {
     "name": "stderr",
     "output_type": "stream",
     "text": [
      "/home/cms.mmorris/coffeajerc/CoffeaJERC/coffea-jerc/lib/python3.6/site-packages/coffea/nanoevents/schemas/nanoaod.py:195: RuntimeWarning: Missing cross-reference index for FatJet_genJetAK8Idx => GenJetAK8\n",
      "  RuntimeWarning,\n"
     ]
    }
   ],
   "source": [
    "import awkward as ak\n",
    "import numpy as np\n",
    "import time\n",
    "from coffea.nanoevents import NanoEventsFactory, NanoAODSchema\n",
    "fname = \"root://cmsxrootd.fnal.gov//store/mc/RunIISummer19UL17NanoAOD/QCD_Pt-15to7000_TuneCP5_Flat2018_13TeV_pythia8/NANOAODSIM/JMECustomTuples_106X_mc2017_realistic_v6-v1/280000/0CEC4EFC-9CBD-B64C-8721-29D0CBB1F0AA.root\"\n",

    "\n",
    "events = NanoEventsFactory.from_root(fname, schemaclass=NanoAODSchema).events()"
   ]
  },
  {
   "cell_type": "code",
   "execution_count": 2,
   "metadata": {},
   "outputs": [],
   "source": [
    "from coffea import processor, hist\n",
    "class FancyJECL2L3Processor(processor.ProcessorABC):\n",
    "    def __init__(self):\n",
    "        dataset_axis = hist.Cat(\"dataset\", \"Primary dataset\")\n",
    "        eta_axis = hist.Bin(\"eta\", r\"$\\eta$\", 20, -5, 5)\n",
    "        pt_axis = hist.Bin(\"pt\", r\"$p_{T}$ [GeV]\", \n",
    "                           np.array([5,10,15,20,25,30,35,40,45,50,60,70,80,90,\n",
    "                                     100,120,140,160,180,\n",
    "                                     200,250,300,350,400,450,500,\n",
    "                                     600,700,800,900,1000,\n",
    "                                     1500,2000,3000,4000,5000]))\n",
    "        dr_axis = hist.Bin(\"dr\", r\"$\\delta (\\eta)$\", 20, 0., 1)\n",
    "        m_axis = hist.Bin(\"m\", r\"$p_{T}$ [GeV]\", 200, 0, 500)\n",
    "        r_axis = hist.Bin(\"r\", \"RECO / GEN response\", 200, 0, 5)\n",
    "        \n",
    "        self._accumulator = processor.dict_accumulator({\n",
    "            'pt':hist.Hist(\"Counts\", dataset_axis, pt_axis),\n",
    "            'eta':hist.Hist(\"Counts\", dataset_axis, eta_axis),\n",
    "            'dr':hist.Hist(\"Counts\", dataset_axis, dr_axis),\n",
    "            'r_pt_ptveta':hist.Hist(\"Counts\", dataset_axis, pt_axis, eta_axis, r_axis),\n",
    "            'r_m_ptveta':hist.Hist(\"Counts\", dataset_axis, pt_axis, eta_axis, r_axis),\n",
    "            'r_m_ptvm':hist.Hist(\"Counts\", dataset_axis, pt_axis, m_axis, r_axis),\n",
    "            'cutflow': processor.defaultdict_accumulator(int),\n",
    "        })\n",
    "    \n",
    "    @property\n",
    "    def accumulator(self):\n",
    "        return self._accumulator\n",
    "    \n",
    "    def process(self, events):\n",
    "        output = self.accumulator.identity()\n",
    "        output['cutflow']['all events'] += len(events)\n",
    "        #print(len(events))\n",
    "        \n",
    "        selectedEvents = events[\n",
    "            (ak.num(events.Jet) > 2)\n",
    "        ]\n",
    "\n",
    "        #leading jet\n",
    "        #print(selectedEvents.Jet[:,0])\n",
    "        #leading two jets\n",
    "        jet = selectedEvents.Jet[:,0:2]\n",
    "        jet = ak.flatten(jet)\n",
    "        #only with genmatch\n",
    "        jet = jet[~ak.is_none(jet.matched_gen)]\n",
    "        #only with good deltaR match\n",
    "        jet = jet[jet.delta_r(jet.matched_gen)<0.2]\n",
    "        \n",
    "        ptresponse = jet.pt/jet.matched_gen.pt\n",
    "        \n",
    "        output['dr'].fill(dataset=selectedEvents.metadata[\"dataset\"],\n",
    "                            dr=jet.delta_r(jet.matched_gen))\n",
    "        output['pt'].fill(dataset=selectedEvents.metadata[\"dataset\"],\n",
    "                            pt=jet.pt)\n",
    "        output['eta'].fill(dataset=selectedEvents.metadata[\"dataset\"], \n",
    "                                 eta=jet.eta)\n",
    "        output['r_pt_ptveta'].fill( dataset=selectedEvents.metadata[\"dataset\"], pt=jet.pt, eta=jet.eta, r=ptresponse)\n",
    "        \n",
    "        return output\n",
    "\n",
    "    def postprocess(self, accumulator):\n",
    "        return accumulator\n",
    "   "
   ]
  },
  {
   "cell_type": "code",
   "execution_count": 3,
   "metadata": {},
   "outputs": [
    {
     "data": {
      "application/vnd.jupyter.widget-view+json": {
       "model_id": "6656c9e7c560457daff02ef99fbe90df",
       "version_major": 2,
       "version_minor": 0
      },
      "text/plain": [
       "HBox(children=(HTML(value='Preprocessing'), FloatProgress(value=0.0, max=1.0), HTML(value='')))"
      ]
     },
     "metadata": {},
     "output_type": "display_data"
    },
    {
     "name": "stdout",
     "output_type": "stream",
     "text": [
      "\n"
     ]
    },
    {
     "data": {
      "application/vnd.jupyter.widget-view+json": {
       "model_id": "2643ee4ae21b4e27b9f0584715bc8980",
       "version_major": 2,
       "version_minor": 0
      },
      "text/plain": [
       "HBox(children=(HTML(value='Processing'), FloatProgress(value=0.0, max=6.0), HTML(value='')))"
      ]
     },
     "metadata": {},
     "output_type": "display_data"
    },
    {
     "name": "stderr",
     "output_type": "stream",
     "text": [
      "/home/cms.mmorris/coffeajerc/CoffeaJERC/coffea-jerc/lib/python3.6/site-packages/coffea/nanoevents/schemas/nanoaod.py:195: RuntimeWarning: Missing cross-reference index for FatJet_genJetAK8Idx => GenJetAK8\n",
      "  RuntimeWarning,\n"
     ]
    },
    {
     "name": "stdout",
     "output_type": "stream",
     "text": [
      "\n",
      "{'pt': <Hist (dataset,pt) instance at 0x7f6e4d730cc0>, 'eta': <Hist (dataset,eta) instance at 0x7f6e4d730d30>, 'dr': <Hist (dataset,dr) instance at 0x7f6e4d730c88>, 'r_pt_ptveta': <Hist (dataset,pt,eta,r) instance at 0x7f6e4cbb4ba8>, 'r_m_ptveta': <Hist (dataset,pt,eta,r) instance at 0x7f6e4cbb4828>, 'r_m_ptvm': <Hist (dataset,pt,m,r) instance at 0x7f6e4cbb4748>, 'cutflow': defaultdict(<class 'int'>, {'all events': 626100})}\n",
      "Events/s: 22049.368940829772\n"
     ]
    }
   ],
   "source": [
    "samples = {\n",
    "    \"QCD\": [fname]\n",
    "}\n",
    "tstart = time.time() \n",
    "output = processor.run_uproot_job(\n",
    "    samples,\n",
    "    \"Events\",\n",
    "    FancyJECL2L3Processor(),\n",
    "    processor.iterative_executor,\n",
    "    {\"schema\": NanoAODSchema},\n",
    ")\n",
    "elapsed = time.time() - tstart\n",
    "print(output)\n",
    "print(\"Events/s:\", output['cutflow']['all events']/elapsed)"
   ]
  },
  {
   "cell_type": "code",
   "execution_count": 4,
   "metadata": {},
   "outputs": [
    {
     "name": "stdout",
     "output_type": "stream",
     "text": [
      "\n",
      " output: \n",
      "\n",
      "{'pt': <Hist (dataset,pt) instance at 0x7f6e4d730cc0>, 'eta': <Hist (dataset,eta) instance at 0x7f6e4d730d30>, 'dr': <Hist (dataset,dr) instance at 0x7f6e4d730c88>, 'r_pt_ptveta': <Hist (dataset,pt,eta,r) instance at 0x7f6e4cbb4ba8>, 'r_m_ptveta': <Hist (dataset,pt,eta,r) instance at 0x7f6e4cbb4828>, 'r_m_ptvm': <Hist (dataset,pt,m,r) instance at 0x7f6e4cbb4748>, 'cutflow': defaultdict(<class 'int'>, {'all events': 626100})}\n",
      "\n",
      "histogram and dictionary names: \n",
      "\n",
      "pt\n",
      "eta\n",
      "dr\n",
      "r_pt_ptveta\n",
      "r_m_ptveta\n",
      "r_m_ptvm\n",
      "cutflow\n"
     ]
    }
   ],
   "source": [
    "print(\"\\n output: \\n\")\n",
    "print(output)\n",
    "print(\"\\nhistogram and dictionary names: \\n\")\n",
    "for key in output.keys():\n",
    "    print(key)"
   ]
  },
  {
   "cell_type": "code",
   "execution_count": 5,
   "metadata": {},
   "outputs": [],
   "source": [
    "import mplhep as hep\n",
    "import matplotlib.pyplot as plt"
   ]
  },
  {
   "cell_type": "code",
   "execution_count": 6,
   "metadata": {},
   "outputs": [],
   "source": [
    "EtaBins = output['r_pt_ptveta'].axis('eta')\n",
    "EtaBinNums = len(output['eta'].values()[('QCD',)])\n",
    "\n",
    "PtBins = output['r_pt_ptveta'].axis('pt')\n",
    "PtBinNums = len(output['pt'].values()[('QCD',)])"
   ]
  },
  {
   "cell_type": "markdown",
   "metadata": {},
   "source": [
    "## Plot $\\eta$"
   ]
  },
  {
   "cell_type": "code",
   "execution_count": 7,
   "metadata": {},
   "outputs": [
    {
     "data": {
      "image/png": "[encoded data removed]",
      "text/plain": [
       "<Figure size 432x288 with 1 Axes>"
      ]
     },
     "metadata": {
      "needs_background": "light"
     },
     "output_type": "display_data"
    }
   ],
   "source": [
    "ax = hist.plotgrid(output['eta'], overlay=\"dataset\", stack=False, density=True)\n"
   ]
  },
  {
   "cell_type": "markdown",
   "metadata": {},
   "source": [
    "## Plot $p_{T}$"
   ]
  },
  {
   "cell_type": "code",
   "execution_count": 8,
   "metadata": {},
   "outputs": [],
   "source": [
    " # your code here"
   ]
  },
  {
   "cell_type": "markdown",
   "metadata": {},
   "source": [
    " ## Plot JER and response correction for $\\eta$"
   ]
  },
  {
   "cell_type": "code",
   "execution_count": 9,
   "metadata": {},
   "outputs": [
    {
     "data": {
      "image/png": "[encoded data removed]",
      "text/plain": [
       "<Figure size 432x288 with 1 Axes>"
      ]
     },
     "metadata": {
      "needs_background": "light"
     },
     "output_type": "display_data"
    },
    {
     "data": {
      "image/png": "[encoded data removed]",
      "text/plain": [
       "<Figure size 432x288 with 1 Axes>"
      ]
     },
     "metadata": {
      "needs_background": "light"
     },
     "output_type": "display_data"
    }
   ],
   "source": [
    "# jet energy response\n",
    "fig, ax = plt.subplots(1, 1)\n",
    "\n",
    "h_jer = output['r_pt_ptveta'].sum('dataset').sum('eta').sum('pt')\n",
    "ax = hist.plot1d(h_jer)\n",
    "ax.set_xlim(0,2)\n",
    "plt.legend(['QCD'])\n",
    "plt.show()\n",
    "\n",
    "\n",
    "\n",
    "\n",
    "# jet energy response vs eta\n",
    "\n",
    "fig, ax = plt.subplots(1, 1)\n",
    "\n",
    "h = output['r_pt_ptveta'].sum('dataset').sum('pt')\n",
    "\n",
    "xaxis='eta'\n",
    "yaxis='r'\n",
    "xaxis = h.axis(xaxis)\n",
    "yaxis = h.axis(yaxis)\n",
    "xoverflow='none'\n",
    "xedges = xaxis.edges(overflow=xoverflow)\n",
    "xcenters = xaxis.centers(overflow=xoverflow)\n",
    "\n",
    "\n",
    "\n",
    "ax.plot(xcenters, np.average(h.values()[()], axis=1))\n",
    "ax.set_xlabel(xaxis.label)\n",
    "ax.set_ylabel(yaxis.label)\n",
    "\n",
    "\n",
    "\n",
    "\n",
    "\n",
    "# your code here\n",
    "\n",
    "\n",
    "\n",
    "\n",
    "\n",
    "\n",
    "\n",
    "\n",
    "plt.show()"
   ]
  },
  {
   "cell_type": "markdown",
   "metadata": {},
   "source": [
    " ## Bonus: Plot  response correction for $p_{T}$"
   ]
  },
  {
   "cell_type": "code",
   "execution_count": 10,
   "metadata": {},
   "outputs": [],
   "source": [
    "# your code here"
   ]
  },
  {
   "cell_type": "markdown",
   "metadata": {},
   "source": [
    " ## Bonus: Plot JEC for separate $\\eta$ and $p_{T}$ Bins"
   ]
  },
  {
   "cell_type": "code",
   "execution_count": 11,
   "metadata": {},
   "outputs": [
    {
     "name": "stdout",
     "output_type": "stream",
     "text": [
      "\n",
      " eta bins:\n",
      "\n",
      "Bin #0: (-inf, -5)\n",
      "Bin #1: [-5, -4.5)\n",
      "Bin #2: [-4.5, -4)\n",
      "Bin #3: [-4, -3.5)\n",
      "Bin #4: [-3.5, -3)\n",
      "Bin #5: [-3, -2.5)\n",
      "Bin #6: [-2.5, -2)\n",
      "Bin #7: [-2, -1.5)\n",
      "Bin #8: [-1.5, -1)\n",
      "Bin #9: [-1, -0.5)\n",
      "Bin #10: [-0.5, 0)\n",
      "Bin #11: [0, 0.5)\n",
      "Bin #12: [0.5, 1)\n",
      "Bin #13: [1, 1.5)\n",
      "Bin #14: [1.5, 2)\n",
      "Bin #15: [2, 2.5)\n",
      "Bin #16: [2.5, 3)\n",
      "Bin #17: [3, 3.5)\n",
      "Bin #18: [3.5, 4)\n",
      "Bin #19: [4, 4.5)\n",
      "\n",
      " pt bins:\n",
      "\n",
      "Bin #0: (-inf, 5)\n",
      "Bin #1: [5, 10)\n",
      "Bin #2: [10, 15)\n",
      "Bin #3: [15, 20)\n",
      "Bin #4: [20, 25)\n",
      "Bin #5: [25, 30)\n",
      "Bin #6: [30, 35)\n",
      "Bin #7: [35, 40)\n",
      "Bin #8: [40, 45)\n",
      "Bin #9: [45, 50)\n",
      "Bin #10: [50, 60)\n",
      "Bin #11: [60, 70)\n",
      "Bin #12: [70, 80)\n",
      "Bin #13: [80, 90)\n",
      "Bin #14: [90, 100)\n",
      "Bin #15: [100, 120)\n",
      "Bin #16: [120, 140)\n",
      "Bin #17: [140, 160)\n",
      "Bin #18: [160, 180)\n",
      "Bin #19: [180, 200)\n",
      "Bin #20: [200, 250)\n",
      "Bin #21: [250, 300)\n",
      "Bin #22: [300, 350)\n",
      "Bin #23: [350, 400)\n",
      "Bin #24: [400, 450)\n",
      "Bin #25: [450, 500)\n",
      "Bin #26: [500, 600)\n",
      "Bin #27: [600, 700)\n",
      "Bin #28: [700, 800)\n",
      "Bin #29: [800, 900)\n",
      "Bin #30: [900, 1000)\n",
      "Bin #31: [1000, 1500)\n",
      "Bin #32: [1500, 2000)\n",
      "Bin #33: [2000, 3000)\n",
      "Bin #34: [3000, 4000)\n"
     ]
    }
   ],
   "source": [
    "\n",
    "print('\\n eta bins:\\n')\n",
    "for i in range(EtaBinNums):\n",
    "    print('Bin #' + str(i) + ': '+ str(EtaBins[i]))\n",
    "    \n",
    "print('\\n pt bins:\\n')\n",
    "for i in range(PtBinNums):\n",
    "    print('Bin #' + str(i) + ': '+ str(PtBins[i]))"
   ]
  },
  {
   "cell_type": "code",
   "execution_count": null,
   "metadata": {},
   "outputs": [],
   "source": []
  }
 ],
 "metadata": {
  "kernelspec": {
   "display_name": "coffea-jerc",
   "language": "python",
   "name": "coffea-jerc"
  },
  "language_info": {
   "codemirror_mode": {
    "name": "ipython",
    "version": 3
   },
   "file_extension": ".py",
   "mimetype": "text/x-python",
   "name": "python",
   "nbconvert_exporter": "python",
   "pygments_lexer": "ipython3",
   "version": "3.6.7"
  }
 },
 "nbformat": 4,
 "nbformat_minor": 5
}
