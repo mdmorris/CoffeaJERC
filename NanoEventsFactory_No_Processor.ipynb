{
 "cells": [
  {
   "cell_type": "markdown",
   "id": "humanitarian-chassis",
   "metadata": {},
   "source": [
    "## Notebook for loading events from two lists of root files with NanoEventsFactory\n",
    "\n",
    "Sorts events array from one list and searches events using array from second list"
   ]
  },
  {
   "cell_type": "code",
   "execution_count": 1,
   "id": "stylish-skiing",
   "metadata": {},
   "outputs": [],
   "source": [
    "import awkward as ak\n",
    "import numpy as np\n",
    "import time\n",
    "from coffea.nanoevents import NanoEventsFactory, NanoAODSchema\n",
    "import sys\n",
    "\n",
    "\n",
    "fname = \"step1_NANO_NoClusterThreshold_ButOnlyGenMatchBelow5GeV_54.root\"\n",
    "fname = 'root://cmsxrootd.fnal.gov//store/mc/RunIISummer19UL17NanoAOD/QCD_Pt-15to7000_TuneCP5_Flat2018_13TeV_pythia8/NANOAODSIM/JMECustomTuples_106X_mc2017_realistic_v6-v1/280000/0CEC4EFC-9CBD-B64C-8721-29D0CBB1F0AA.root'\n",
    "ext = 'root://cmsxrootd.fnal.gov//'\n"
   ]
  },
  {
   "cell_type": "code",
   "execution_count": 2,
   "id": "pressing-compound",
   "metadata": {},
   "outputs": [],
   "source": [
    "toc_notebook = time.time()\n",
    "delta = -1"
   ]
  },
  {
   "cell_type": "code",
   "execution_count": 3,
   "id": "private-debate",
   "metadata": {},
   "outputs": [],
   "source": [
    "def printTime(delta):\n",
    "    \n",
    "    print('Time: {0:0.0f} m {1:0.2f} s'.format(delta // 60, delta % 60))\n",
    "    \n",
    "def progressBar(width, count):\n",
    "    toolbar_width = width\n",
    "\n",
    "    # setup toolbar\n",
    "    if(count==1): \n",
    "        sys.stdout.write(\"[{}]\".format(\" \" * toolbar_width))\n",
    "        sys.stdout.flush()\n",
    "        \n",
    "        \n",
    "    else :    \n",
    "        for i in range(width+1):\n",
    "            sys.stdout.flush()\n",
    "            sys.stdout.write('\\b')\n",
    "            \n",
    "\n",
    "        sys.stdout.write('='*count + ' '*(width-count) + ']')\n",
    "        sys.stdout.flush()\n",
    "\n",
    "\n",
    "        if (count==width): sys.stdout.write(\"]\\n\")"
   ]
  },
  {
   "cell_type": "markdown",
   "id": "large-uncle",
   "metadata": {},
   "source": [
    "### Get lists of files"
   ]
  },
  {
   "cell_type": "code",
   "execution_count": 4,
   "id": "educated-brush",
   "metadata": {},
   "outputs": [],
   "source": [
    "# file = open('filenames.txt').readlines()\n",
    "file_flatPU = open('filenames_flatPU.txt').readlines()\n",
    "file_epsilonPU = open('filenames_epsilonPU.txt').readlines()\n",
    "\n",
    "# filenames = ['root://cmsxrootd.fnal.gov/' + f.split()[0] for f in file]\n",
    "filenames_flatPU = ['root://cmsxrootd.fnal.gov/' + f.split()[0] for f in file_flatPU]\n",
    "filenames_epsilonPU = ['root://cmsxrootd.fnal.gov/' + f.split()[0] for f in file_epsilonPU]"
   ]
  },
  {
   "cell_type": "markdown",
   "id": "joined-glass",
   "metadata": {},
   "source": [
    "### Shorten filenames list to only 5 files for testing\n",
    "\n",
    "skipping 4th file in filenames_epsilonPU because xrootd was not loading it\n"
   ]
  },
  {
   "cell_type": "code",
   "execution_count": 5,
   "id": "handy-agenda",
   "metadata": {},
   "outputs": [],
   "source": [
    "filenames1 = filenames_flatPU[0:5]\n",
    "\n",
    "filenames2 = filenames_epsilonPU[0:4]\n",
    "filenames2.append(filenames_epsilonPU[5])"
   ]
  },
  {
   "cell_type": "code",
   "execution_count": 8,
   "id": "public-today",
   "metadata": {},
   "outputs": [
    {
     "name": "stdout",
     "output_type": "stream",
     "text": [
      "N files: 5\n",
      "[=====]]\n",
      "Time: 0 m 25.29 s\n"
     ]
    }
   ],
   "source": [
    "events_flatPU = []\n",
    "events_epsilonPU = []\n",
    "\n",
    "toc = time.time()\n",
    "print('N files: {0:.0f}'.format(len(filenames1)))\n",
    "count = 0\n",
    "for file in filenames1:\n",
    "    \n",
    "    events_flatPU.append( np.array(NanoEventsFactory.from_root(file, schemaclass=NanoAODSchema).events().event,\n",
    "                                   dtype='<U64' ).flatten())\n",
    "    \n",
    "    count+=1\n",
    "    progressBar(len(filenames1), count )\n",
    "\n",
    "tic = time.time()\n",
    "printTime(tic-toc)"
   ]
  },
  {
   "cell_type": "markdown",
   "id": "peaceful-pride",
   "metadata": {},
   "source": [
    "### Convert list of event arrays to awkward array"
   ]
  },
  {
   "cell_type": "code",
   "execution_count": 9,
   "id": "exclusive-rough",
   "metadata": {},
   "outputs": [
    {
     "name": "stdout",
     "output_type": "stream",
     "text": [
      "Time: 0 m 6.59 s\n"
     ]
    }
   ],
   "source": [
    "toc = time.time()\n",
    "\n",
    "ak_arr1 = ak.Array(events_flatPU)\n",
    "del events_flatPU\n",
    "\n",
    "tic = time.time()\n",
    "printTime(tic-toc)"
   ]
  },
  {
   "cell_type": "markdown",
   "id": "similar-fantasy",
   "metadata": {},
   "source": [
    "### Flatten awkward array and convert to numpy array"
   ]
  },
  {
   "cell_type": "code",
   "execution_count": 10,
   "id": "collective-particle",
   "metadata": {
    "scrolled": true
   },
   "outputs": [
    {
     "name": "stdout",
     "output_type": "stream",
     "text": [
      "Time: 1 m 4.21 s\n"
     ]
    }
   ],
   "source": [
    "\n",
    "\n",
    "toc = time.time()\n",
    "\n",
    "ak_flat1 = ak.flatten(ak_arr1)\n",
    "del ak_arr1\n",
    "\n",
    "np_arr1 = np.array(ak_flat1)\n",
    "del ak_flat1\n",
    "\n",
    "tic = time.time()\n",
    "\n",
    "printTime(tic-toc)\n",
    "\n"
   ]
  },
  {
   "cell_type": "code",
   "execution_count": 12,
   "id": "loose-tattoo",
   "metadata": {},
   "outputs": [
    {
     "name": "stdout",
     "output_type": "stream",
     "text": [
      "N files: 5\n",
      "[=====]]\n",
      "Time: 0 m 19.37 s\n"
     ]
    }
   ],
   "source": [
    "events_epsilonPU = []\n",
    "toc = time.time()\n",
    "print('N files: {0:.0f}'.format(len(filenames2)))\n",
    "count = 0\n",
    "for file in filenames2:\n",
    "    \n",
    "    events_epsilonPU.append( np.array(NanoEventsFactory.from_root(file, schemaclass=NanoAODSchema).events().event,\n",
    "                                   dtype='<U64' ).flatten())\n",
    "    \n",
    "    count+=1\n",
    "    progressBar(len(filenames2), count )\n",
    "\n",
    "tic = time.time()\n",
    "printTime(tic-toc)"
   ]
  },
  {
   "cell_type": "code",
   "execution_count": 13,
   "id": "negative-sense",
   "metadata": {},
   "outputs": [
    {
     "name": "stdout",
     "output_type": "stream",
     "text": [
      "Time: 0 m 3.51 s\n"
     ]
    }
   ],
   "source": [
    "toc = time.time()\n",
    "\n",
    "ak_arr2 = ak.Array(events_epsilonPU)\n",
    "del events_epsilonPU\n",
    "\n",
    "tic = time.time()\n",
    "printTime(tic-toc)"
   ]
  },
  {
   "cell_type": "code",
   "execution_count": 14,
   "id": "beneficial-keyboard",
   "metadata": {},
   "outputs": [
    {
     "name": "stdout",
     "output_type": "stream",
     "text": [
      "Time: 0 m 34.86 s\n"
     ]
    }
   ],
   "source": [
    "toc = time.time()\n",
    "\n",
    "ak_flat2 = ak.flatten(ak_arr2)\n",
    "del ak_arr2\n",
    "\n",
    "\n",
    "np_arr2 = np.array(ak_flat2)\n",
    "del ak_flat2\n",
    "\n",
    "tic = time.time()\n",
    "\n",
    "printTime(tic-toc)"
   ]
  },
  {
   "cell_type": "markdown",
   "id": "extreme-button",
   "metadata": {},
   "source": [
    "### Pad smaller events array"
   ]
  },
  {
   "cell_type": "code",
   "execution_count": 15,
   "id": "finite-mediterranean",
   "metadata": {},
   "outputs": [
    {
     "name": "stdout",
     "output_type": "stream",
     "text": [
      "flatPU\n",
      "3792100\n",
      "epsilonPU\n",
      "3792100\n"
     ]
    }
   ],
   "source": [
    "if(np_arr1.shape[0] > np_arr2.shape[0]):\n",
    "    diff = np_arr1.shape[0] - np_arr2.shape[0]\n",
    "    np_arr_pad = np.pad(np_arr2, (diff, 0),  constant_values=(-1))\n",
    "    np_arr = np_arr1\n",
    "#     del np_arr1\n",
    "#     del np_arr2\n",
    "\n",
    "    print('flatPU')\n",
    "    print(np_arr.shape[0])\n",
    "    print('epsilonPU')\n",
    "    print(np_arr_pad.shape[0])\n",
    "    \n",
    "else:\n",
    "    diff = np_arr2.shape[0] - np_arr1.shape[0]\n",
    "    np_arr_pad = np.pad(np_arr1, (diff, 0),  constant_values=(-1))\n",
    "    np_arr = np_arr2\n",
    "#     del np_arr1\n",
    "#     del np_arr2\n",
    "\n",
    "    print('flatPU')\n",
    "    print(np_arr_pad.shape[0])\n",
    "    print('epsilonPU')\n",
    "    print(np_arr.shape[0])"
   ]
  },
  {
   "cell_type": "code",
   "execution_count": 16,
   "id": "superb-turtle",
   "metadata": {},
   "outputs": [
    {
     "name": "stdout",
     "output_type": "stream",
     "text": [
      "3792100\n",
      "3792100\n"
     ]
    }
   ],
   "source": [
    "print(np_arr_pad.shape[0])\n",
    "print(np_arr.shape[0])"
   ]
  },
  {
   "cell_type": "markdown",
   "id": "excited-enhancement",
   "metadata": {},
   "source": [
    "### Sort 1st array"
   ]
  },
  {
   "cell_type": "code",
   "execution_count": 17,
   "id": "complimentary-exposure",
   "metadata": {},
   "outputs": [
    {
     "name": "stdout",
     "output_type": "stream",
     "text": [
      "Time: 0.48 s\n"
     ]
    }
   ],
   "source": [
    "toc = time.time()\n",
    "\n",
    "ind1 = np.argsort(np_arr)\n",
    "\n",
    "tic = time.time()\n",
    "print('Time: {0:0.2f} s'.format(tic-toc))"
   ]
  },
  {
   "cell_type": "markdown",
   "id": "unlikely-queen",
   "metadata": {},
   "source": [
    "### Search sorted array with 2nd array"
   ]
  },
  {
   "cell_type": "code",
   "execution_count": 18,
   "id": "fifty-kernel",
   "metadata": {},
   "outputs": [
    {
     "name": "stdout",
     "output_type": "stream",
     "text": [
      "Time: 0.36 s\n"
     ]
    }
   ],
   "source": [
    "toc = time.time()\n",
    "\n",
    "ind2 = np.searchsorted(np_arr[ind1], np_arr_pad)\n",
    "\n",
    "tic = time.time()\n",
    "print('Time: {0:0.2f} s'.format(tic-toc))"
   ]
  },
  {
   "cell_type": "code",
   "execution_count": 19,
   "id": "treated-warner",
   "metadata": {},
   "outputs": [],
   "source": [
    "sorted_ind = ind1[ind2]"
   ]
  },
  {
   "cell_type": "code",
   "execution_count": 20,
   "id": "raised-ticket",
   "metadata": {},
   "outputs": [],
   "source": [
    "del ind1\n",
    "del ind2"
   ]
  },
  {
   "cell_type": "code",
   "execution_count": 21,
   "id": "convertible-syntax",
   "metadata": {},
   "outputs": [
    {
     "name": "stdout",
     "output_type": "stream",
     "text": [
      "sorted array 1\n",
      "['1' '1' '1' ... '195820' '195820' '195820']\n",
      "matched array to array 1\n",
      "['-1' '-1' '-1' ... '19581997' '19581993' '19581931']\n"
     ]
    }
   ],
   "source": [
    "print('sorted array 1')\n",
    "print(np_arr[sorted_ind])\n",
    "print('matched array to array 1')\n",
    "print(np_arr_pad)"
   ]
  },
  {
   "cell_type": "code",
   "execution_count": 22,
   "id": "suburban-initial",
   "metadata": {},
   "outputs": [
    {
     "name": "stdout",
     "output_type": "stream",
     "text": [
      "matched events\n",
      "['7741911' '7741903' '7741901' ... '15654186' '15654195' '15654198']\n",
      "\n",
      "shape\n",
      "106500\n",
      "\n",
      "percentage matched events\n",
      "2.81%\n"
     ]
    }
   ],
   "source": [
    "matchedEvents = (np_arr[sorted_ind] == np_arr_pad)\n",
    "\n",
    "print('matched events')\n",
    "print(np_arr[matchedEvents])\n",
    "print()\n",
    "print('shape')\n",
    "print(np_arr[matchedEvents].shape[0])\n",
    "print()\n",
    "print('percentage matched events')\n",
    "print('{0:0.2f}%'.format((np_arr[matchedEvents].shape[0] / np_arr.shape[0])*100))\n"
   ]
  },
  {
   "cell_type": "code",
   "execution_count": 23,
   "id": "listed-labor",
   "metadata": {},
   "outputs": [
    {
     "name": "stdout",
     "output_type": "stream",
     "text": [
      "Time: 2.00 m 35.06 s\n"
     ]
    }
   ],
   "source": [
    "if(delta < 0):\n",
    "    tic_notebook = time.time()\n",
    "delta = tic_notebook-toc_notebook\n",
    "print('Time: {0:0.2f} m {1:0.2f} s'.format(delta // 60, delta % 60))"
   ]
  },
  {
   "cell_type": "markdown",
   "id": "another-preservation",
   "metadata": {},
   "source": [
    "Notebook runs in ~3 mins for 5 files"
   ]
  },
  {
   "cell_type": "code",
   "execution_count": null,
   "id": "dominican-scientist",
   "metadata": {},
   "outputs": [],
   "source": []
  }
 ],
 "metadata": {
  "kernelspec": {
   "display_name": "Python 3",
   "language": "python",
   "name": "python3"
  },
  "language_info": {
   "codemirror_mode": {
    "name": "ipython",
    "version": 3
   },
   "file_extension": ".py",
   "mimetype": "text/x-python",
   "name": "python",
   "nbconvert_exporter": "python",
   "pygments_lexer": "ipython3",
   "version": "3.8.8"
  }
 },
 "nbformat": 4,
 "nbformat_minor": 5
}
