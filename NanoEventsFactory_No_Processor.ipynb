{
 "cells": [
  {
   "cell_type": "markdown",
   "id": "compliant-merit",
   "metadata": {},
   "source": [
    "## Notebook for loading events from two lists of root files with NanoEventsFactory\n",
    "\n",
    "Sorts events array from one list and searches events using array from second list"
   ]
  },
  {
   "cell_type": "code",
   "execution_count": 1,
   "id": "stylish-skiing",
   "metadata": {},
   "outputs": [],
   "source": [
    "import awkward as ak\n",
    "import numpy as np\n",
    "import time\n",
    "from coffea.nanoevents import NanoEventsFactory, NanoAODSchema\n",
    "import sys\n",
    "\n",
    "\n",
    "fname = \"step1_NANO_NoClusterThreshold_ButOnlyGenMatchBelow5GeV_54.root\"\n",
    "fname = 'root://cmsxrootd.fnal.gov//store/mc/RunIISummer19UL17NanoAOD/QCD_Pt-15to7000_TuneCP5_Flat2018_13TeV_pythia8/NANOAODSIM/JMECustomTuples_106X_mc2017_realistic_v6-v1/280000/0CEC4EFC-9CBD-B64C-8721-29D0CBB1F0AA.root'\n",
    "ext = 'root://cmsxrootd.fnal.gov//'\n"
   ]
  },
  {
   "cell_type": "code",
   "execution_count": 2,
   "id": "pressing-compound",
   "metadata": {},
   "outputs": [],
   "source": [
    "toc_notebook = time.time()\n",
    "delta = -1"
   ]
  },
  {
   "cell_type": "code",
   "execution_count": 3,
   "id": "private-debate",
   "metadata": {},
   "outputs": [],
   "source": [
    "def printTime(delta):\n",
    "    \n",
    "    print('Time: {0:0.0f} m {1:0.2f} s'.format(delta // 60, delta % 60))\n",
    "    \n",
    "def progressBar(width, count):\n",
    "    toolbar_width = width\n",
    "\n",
    "    # setup toolbar\n",
    "    if(count==1): \n",
    "        sys.stdout.write(\"[{}]\".format(\" \" * toolbar_width))\n",
    "        sys.stdout.flush()\n",
    "        \n",
    "        \n",
    "    else :    \n",
    "        for i in range(width+1):\n",
    "            sys.stdout.flush()\n",
    "            sys.stdout.write('\\b')\n",
    "            \n",
    "\n",
    "        sys.stdout.write('='*count + ' '*(width-count) + ']')\n",
    "        sys.stdout.flush()\n",
    "\n",
    "\n",
    "        if (count==width): sys.stdout.write(\"]\\n\")"
   ]
  },
  {
   "cell_type": "markdown",
   "id": "inside-beverage",
   "metadata": {},
   "source": [
    "### Get lists of files"
   ]
  },
  {
   "cell_type": "code",
   "execution_count": 4,
   "id": "educated-brush",
   "metadata": {},
   "outputs": [],
   "source": [
    "file = open('filenames.txt').readlines()\n",
    "file_flatPU = open('filenames_flatPU.txt').readlines()\n",
    "file_epsilonPU = open('filenames_epsilonPU.txt').readlines()\n",
    "\n",
    "filenames = ['root://cmsxrootd.fnal.gov/' + f.split()[0] for f in file]\n",
    "filenames_flatPU = ['root://cmsxrootd.fnal.gov/' + f.split()[0] for f in file_flatPU]\n",
    "filenames_epsilonPU = ['root://cmsxrootd.fnal.gov/' + f.split()[0] for f in file_epsilonPU]"
   ]
  },
  {
   "cell_type": "markdown",
   "id": "joined-glass",
   "metadata": {},
   "source": [
    "### Shorten filenames list to only 5 files for testing\n",
    "\n",
    "skipping 4th file in filenames_epsilonPU because xrootd was not loading it\n"
   ]
  },
  {
   "cell_type": "code",
   "execution_count": 5,
   "id": "handy-agenda",
   "metadata": {},
   "outputs": [],
   "source": [
    "filenames1 = filenames_flatPU[0:5]\n",
    "\n",
    "filenames2 = filenames_epsilonPU[0:4]\n",
    "filenames2.append(filenames_epsilonPU[5])"
   ]
  },
  {
   "cell_type": "code",
   "execution_count": null,
   "id": "public-today",
   "metadata": {},
   "outputs": [],
   "source": [
    "events_flatPU = []\n",
    "events_epsilonPU = []\n",
    "\n",
    "toc = time.time()\n",
    "print('N files: {0:.0f}'.format(len(filenames1)))\n",
    "count = 0\n",
    "for file in filenames1:\n",
    "    \n",
    "    events_flatPU.append( np.array(NanoEventsFactory.from_root(file, schemaclass=NanoAODSchema).events().event,\n",
    "                                   dtype='<U64' ).flatten())\n",
    "    \n",
    "    count+=1\n",
    "    progressBar(len(filenames1), count )\n",
    "\n",
    "tic = time.time()\n",
    "printTime(tic-toc)"
   ]
  },
  {
   "cell_type": "code",
   "execution_count": 8,
   "id": "awful-bailey",
   "metadata": {},
   "outputs": [
    {
     "name": "stdout",
     "output_type": "stream",
     "text": [
      "34\n",
      "18\n",
      "76\n"
     ]
    }
   ],
   "source": [
    "print(len(filenames))\n",
    "print(len(filenames_flatPU))\n",
    "print(len(filenames_epsilonPU))"
   ]
  },
  {
   "cell_type": "markdown",
   "id": "peaceful-pride",
   "metadata": {},
   "source": [
    "### Convert list of event arrays to awkward array"
   ]
  },
  {
   "cell_type": "code",
   "execution_count": 9,
   "id": "exclusive-rough",
   "metadata": {},
   "outputs": [
    {
     "name": "stdout",
     "output_type": "stream",
     "text": [
      "Time: 0 m 6.59 s\n"
     ]
    }
   ],
   "source": [
    "toc = time.time()\n",
    "\n",
    "ak_arr1 = ak.Array(events_flatPU)\n",
    "del events_flatPU\n",
    "\n",
    "tic = time.time()\n",
    "printTime(tic-toc)"
   ]
  },
  {
   "cell_type": "markdown",
   "id": "similar-fantasy",
   "metadata": {},
   "source": [
    "### Flatten awkward array and convert to numpy array"
   ]
  },
  {
   "cell_type": "code",
   "execution_count": 10,
   "id": "collective-particle",
   "metadata": {
    "scrolled": true
   },
   "outputs": [
    {
     "name": "stdout",
     "output_type": "stream",
     "text": [
      "Time: 1 m 4.21 s\n"
     ]
    }
   ],
   "source": [
    "\n",
    "\n",
    "toc = time.time()\n",
    "\n",
    "ak_flat1 = ak.flatten(ak_arr1)\n",
    "del ak_arr1\n",
    "\n",
    "np_arr1 = np.array(ak_flat1)\n",
    "del ak_flat1\n",
    "\n",
    "tic = time.time()\n",
    "\n",
    "printTime(tic-toc)\n",
    "\n"
   ]
  },
  {
   "cell_type": "code",
   "execution_count": 9,
   "id": "loose-tattoo",
   "metadata": {},
   "outputs": [
    {
     "name": "stdout",
     "output_type": "stream",
     "text": [
      "N files: 5\n",
      "[=====]]\n",
      "Time: 0 m 19.75 s\n"
     ]
    }
   ],
   "source": [
    "events_epsilonPU = []\n",
    "toc = time.time()\n",
    "print('N files: {0:.0f}'.format(len(filenames2)))\n",
    "count = 0\n",
    "for file in filenames2:\n",
    "    \n",
    "#     events_epsilonPU.append( np.array(NanoEventsFactory.from_root(file, schemaclass=NanoAODSchema).events().event,\n",
    "#                                    dtype='<U64' ).flatten())\n",
    "    events_epsilonPU.append( NanoEventsFactory.from_root(file, schemaclass=NanoAODSchema).events().event )\n",
    "    \n",
    "    count+=1\n",
    "    progressBar(len(filenames2), count )\n",
    "\n",
    "tic = time.time()\n",
    "printTime(tic-toc)"
   ]
  },
  {
   "cell_type": "code",
   "execution_count": null,
   "id": "interesting-monitor",
   "metadata": {},
   "outputs": [],
   "source": []
  },
  {
   "cell_type": "code",
   "execution_count": 11,
   "id": "negative-sense",
   "metadata": {},
   "outputs": [
    {
     "name": "stdout",
     "output_type": "stream",
     "text": [
      "Time: 0 m 33.34 s\n"
     ]
    }
   ],
   "source": [
    "toc = time.time()\n",
    "\n",
    "ak_arr2 = ak.Array(events_epsilonPU)\n",
    "del events_epsilonPU\n",
    "\n",
    "tic = time.time()\n",
    "printTime(tic-toc)"
   ]
  },
  {
   "cell_type": "code",
   "execution_count": 45,
   "id": "hundred-turtle",
   "metadata": {},
   "outputs": [
    {
     "name": "stdout",
     "output_type": "stream",
     "text": [
      "464000\n",
      "452400\n",
      "385100\n",
      "382800\n",
      "316100\n"
     ]
    }
   ],
   "source": [
    "for a in ak_arr2:\n",
    "    print(len(a))"
   ]
  },
  {
   "cell_type": "code",
   "execution_count": 12,
   "id": "beneficial-keyboard",
   "metadata": {},
   "outputs": [
    {
     "name": "stdout",
     "output_type": "stream",
     "text": [
      "Time: 0 m 0.01 s\n"
     ]
    }
   ],
   "source": [
    "toc = time.time()\n",
    "\n",
    "ak_flat2 = ak.flatten(ak_arr2)\n",
    "del ak_arr2\n",
    "\n",
    "\n",
    "np_arr2 = np.array(ak_flat2)\n",
    "del ak_flat2\n",
    "\n",
    "tic = time.time()\n",
    "\n",
    "printTime(tic-toc)"
   ]
  },
  {
   "cell_type": "markdown",
   "id": "extreme-button",
   "metadata": {},
   "source": [
    "### Pad smaller events array"
   ]
  },
  {
   "cell_type": "code",
   "execution_count": 15,
   "id": "finite-mediterranean",
   "metadata": {},
   "outputs": [
    {
     "name": "stdout",
     "output_type": "stream",
     "text": [
      "flatPU\n",
      "3792100\n",
      "epsilonPU\n",
      "3792100\n"
     ]
    }
   ],
   "source": [
    "if(np_arr1.shape[0] > np_arr2.shape[0]):\n",
    "    diff = np_arr1.shape[0] - np_arr2.shape[0]\n",
    "    np_arr_pad = np.pad(np_arr2, (diff, 0),  constant_values=(-1))\n",
    "    np_arr = np_arr1\n",
    "#     del np_arr1\n",
    "#     del np_arr2\n",
    "\n",
    "    print('flatPU')\n",
    "    print(np_arr.shape[0])\n",
    "    print('epsilonPU')\n",
    "    print(np_arr_pad.shape[0])\n",
    "    \n",
    "else:\n",
    "    diff = np_arr2.shape[0] - np_arr1.shape[0]\n",
    "    np_arr_pad = np.pad(np_arr1, (diff, 0),  constant_values=(-1))\n",
    "    np_arr = np_arr2\n",
    "#     del np_arr1\n",
    "#     del np_arr2\n",
    "\n",
    "    print('flatPU')\n",
    "    print(np_arr_pad.shape[0])\n",
    "    print('epsilonPU')\n",
    "    print(np_arr.shape[0])"
   ]
  },
  {
   "cell_type": "code",
   "execution_count": 16,
   "id": "superb-turtle",
   "metadata": {},
   "outputs": [
    {
     "name": "stdout",
     "output_type": "stream",
     "text": [
      "3792100\n",
      "3792100\n"
     ]
    }
   ],
   "source": [
    "print(np_arr_pad.shape[0])\n",
    "print(np_arr.shape[0])"
   ]
  },
  {
   "cell_type": "markdown",
   "id": "automated-appendix",
   "metadata": {},
   "source": [
    "### Sort 1st array"
   ]
  },
  {
   "cell_type": "code",
   "execution_count": 17,
   "id": "complimentary-exposure",
   "metadata": {},
   "outputs": [
    {
     "name": "stdout",
     "output_type": "stream",
     "text": [
      "Time: 0.48 s\n"
     ]
    }
   ],
   "source": [
    "toc = time.time()\n",
    "\n",
    "ind1 = np.argsort(np_arr)\n",
    "\n",
    "tic = time.time()\n",
    "print('Time: {0:0.2f} s'.format(tic-toc))"
   ]
  },
  {
   "cell_type": "code",
   "execution_count": null,
   "id": "burning-trademark",
   "metadata": {},
   "outputs": [],
   "source": [
    "data = np_arr[ind1]"
   ]
  },
  {
   "cell_type": "code",
   "execution_count": null,
   "id": "finite-target",
   "metadata": {},
   "outputs": [],
   "source": []
  },
  {
   "cell_type": "code",
   "execution_count": null,
   "id": "fifty-realtor",
   "metadata": {},
   "outputs": [],
   "source": []
  },
  {
   "cell_type": "markdown",
   "id": "differential-refund",
   "metadata": {},
   "source": [
    "### Search sorted array with 2nd array"
   ]
  },
  {
   "cell_type": "code",
   "execution_count": 18,
   "id": "fifty-kernel",
   "metadata": {},
   "outputs": [
    {
     "name": "stdout",
     "output_type": "stream",
     "text": [
      "Time: 0.36 s\n"
     ]
    }
   ],
   "source": [
    "toc = time.time()\n",
    "\n",
    "ind2 = np.searchsorted(np_arr[ind1], np_arr_pad)\n",
    "\n",
    "tic = time.time()\n",
    "print('Time: {0:0.2f} s'.format(tic-toc))"
   ]
  },
  {
   "cell_type": "code",
   "execution_count": 19,
   "id": "treated-warner",
   "metadata": {},
   "outputs": [],
   "source": [
    "sorted_ind = ind1[ind2]"
   ]
  },
  {
   "cell_type": "code",
   "execution_count": 20,
   "id": "raised-ticket",
   "metadata": {},
   "outputs": [],
   "source": [
    "del ind1\n",
    "del ind2"
   ]
  },
  {
   "cell_type": "code",
   "execution_count": 21,
   "id": "convertible-syntax",
   "metadata": {},
   "outputs": [
    {
     "name": "stdout",
     "output_type": "stream",
     "text": [
      "sorted array 1\n",
      "['1' '1' '1' ... '195820' '195820' '195820']\n",
      "matched array to array 1\n",
      "['-1' '-1' '-1' ... '19581997' '19581993' '19581931']\n"
     ]
    }
   ],
   "source": [
    "print('sorted array 1')\n",
    "print(np_arr[sorted_ind])\n",
    "print('matched array to array 1')\n",
    "print(np_arr_pad)"
   ]
  },
  {
   "cell_type": "code",
   "execution_count": 22,
   "id": "suburban-initial",
   "metadata": {},
   "outputs": [
    {
     "name": "stdout",
     "output_type": "stream",
     "text": [
      "matched events\n",
      "['7741911' '7741903' '7741901' ... '15654186' '15654195' '15654198']\n",
      "\n",
      "shape\n",
      "106500\n",
      "\n",
      "percentage matched events\n",
      "2.81%\n"
     ]
    }
   ],
   "source": [
    "matchedEvents = (np_arr[sorted_ind] == np_arr_pad)\n",
    "\n",
    "print('matched events')\n",
    "print(np_arr[matchedEvents])\n",
    "print()\n",
    "print('shape')\n",
    "print(np_arr[matchedEvents].shape[0])\n",
    "print()\n",
    "print('percentage matched events')\n",
    "print('{0:0.2f}%'.format((np_arr[matchedEvents].shape[0] / np_arr.shape[0])*100))\n"
   ]
  },
  {
   "cell_type": "code",
   "execution_count": 23,
   "id": "listed-labor",
   "metadata": {},
   "outputs": [
    {
     "name": "stdout",
     "output_type": "stream",
     "text": [
      "Time: 2.00 m 35.06 s\n"
     ]
    }
   ],
   "source": [
    "if(delta < 0):\n",
    "    tic_notebook = time.time()\n",
    "delta = tic_notebook-toc_notebook\n",
    "print('Time: {0:0.2f} m {1:0.2f} s'.format(delta // 60, delta % 60))"
   ]
  },
  {
   "cell_type": "markdown",
   "id": "another-preservation",
   "metadata": {},
   "source": [
    "Notebook runs in ~3 mins for 5 files"
   ]
  },
  {
   "cell_type": "code",
   "execution_count": null,
   "id": "sorted-longer",
   "metadata": {},
   "outputs": [],
   "source": []
  },
  {
   "cell_type": "markdown",
   "id": "athletic-restoration",
   "metadata": {},
   "source": [
    "#### Nevents \n",
    "for /QCD_Pt-15to7000_TuneCP5_Flat2018_13TeV_pythia8/RunIISummer19UL17NanoAOD-FlatPU0to70_JMECustomTuples_106X_mc2017_realistic_v6-v2/NANOAODSIM\n",
    "\n",
    "$N_{events} = 19383900$\n",
    "\n",
    "\n",
    "for /QCD_Pt-15to7000_TuneCP5_Flat2018_13TeV_pythia8/RunIISummer19UL17NanoAOD-EpsilonPU_JMECustomTuples_106X_mc2017_realistic_v6-v2/NANOAODSIM\n",
    "\n",
    "$N_{events} = 19657200 $"
   ]
  },
  {
   "cell_type": "code",
   "execution_count": 35,
   "id": "inside-insurance",
   "metadata": {},
   "outputs": [],
   "source": [
    "\n",
    "# Nevents = 19383900\n",
    "\n",
    "Nevents = 20000000\n"
   ]
  },
  {
   "cell_type": "code",
   "execution_count": 36,
   "id": "pending-damage",
   "metadata": {},
   "outputs": [],
   "source": [
    "fp_all = np.memmap('test_all.dat', dtype='<U64', mode='w+', shape=(Nevents))"
   ]
  },
  {
   "cell_type": "code",
   "execution_count": 39,
   "id": "green-exercise",
   "metadata": {},
   "outputs": [
    {
     "data": {
      "text/plain": [
       "memmap(['', '', '', ..., '', '', ''], dtype='<U64')"
      ]
     },
     "execution_count": 39,
     "metadata": {},
     "output_type": "execute_result"
    }
   ],
   "source": [
    "fp_all"
   ]
  },
  {
   "cell_type": "code",
   "execution_count": 51,
   "id": "cordless-protection",
   "metadata": {},
   "outputs": [
    {
     "name": "stdout",
     "output_type": "stream",
     "text": [
      "N events 564200\n",
      "N events 1050500\n",
      "N events 160300\n",
      "N events 895000\n",
      "N events 1122100\n",
      "Time: 0 m 32.30 s\n"
     ]
    }
   ],
   "source": [
    "toc = time.time()\n",
    "events = []\n",
    "\n",
    "begin=0\n",
    "end=0\n",
    "\n",
    "for file in filenames1:\n",
    "    \n",
    "    evts = NanoEventsFactory.from_root(file, schemaclass=NanoAODSchema).events().event\n",
    "    events.append( evts )\n",
    "    end = end+len(evts)\n",
    "    print('N events', len(evts))\n",
    "    fp_all[begin:end] = evts\n",
    "    \n",
    "    begin=begin+len(evts)\n",
    "    \n",
    "tic=time.time()\n",
    "\n",
    "printTime(tic-toc)"
   ]
  },
  {
   "cell_type": "code",
   "execution_count": 50,
   "id": "veterinary-franchise",
   "metadata": {},
   "outputs": [
    {
     "data": {
      "text/plain": [
       "memmap(['188722', '188702', '188729', ..., '', '', ''], dtype='<U64')"
      ]
     },
     "execution_count": 50,
     "metadata": {},
     "output_type": "execute_result"
    }
   ],
   "source": [
    "fp_all"
   ]
  },
  {
   "cell_type": "code",
   "execution_count": null,
   "id": "specified-recovery",
   "metadata": {},
   "outputs": [],
   "source": [
    "# np.argsort(fp_all)"
   ]
  },
  {
   "cell_type": "code",
   "execution_count": 54,
   "id": "fixed-interim",
   "metadata": {},
   "outputs": [
    {
     "data": {
      "text/plain": [
       "memmap(['188722', '188702', '188729', '188725', '188715', '188704',\n",
       "        '188714', '188708', '188710', '188728', '188738', '188705',\n",
       "        '188716', '188720', '188713', '188706', '188739', '188721',\n",
       "        '188709', '188711', '188707', '188712', '188701', '188746',\n",
       "        '188731', '188730', '188732', '188723', '188737', '188733',\n",
       "        '188734', '188703', '188717', '188749', '188727', '188735',\n",
       "        '188719', '188724', '188753', '188747', '188726', '188758',\n",
       "        '188770', '188755', '188762', '188748', '188741', '188740',\n",
       "        '188736', '188743', '188779', '188769', '188742', '188756',\n",
       "        '188757', '188750', '188759', '188785', '188760', '188764',\n",
       "        '188789', '188752', '188751', '188745', '188774', '188766',\n",
       "        '188763', '188744', '188767', '188787', '188765', '188718',\n",
       "        '188782', '188754', '188791', '188783', '188780', '188792',\n",
       "        '188761', '188798', '188786', '188768', '188784', '188771',\n",
       "        '188772', '188797', '188781', '188775', '188773', '188794',\n",
       "        '188790', '188777', '188778', '188799', '188793', '188796',\n",
       "        '188800', '188795', '188788', '188776'], dtype='<U64')"
      ]
     },
     "execution_count": 54,
     "metadata": {},
     "output_type": "execute_result"
    }
   ],
   "source": [
    "fp_all[:100]"
   ]
  },
  {
   "cell_type": "code",
   "execution_count": 55,
   "id": "sought-finding",
   "metadata": {},
   "outputs": [
    {
     "data": {
      "text/plain": [
       "memmap([22,  1, 31,  5, 11, 15, 20,  7, 18,  8, 19, 21, 14,  6,  4, 12,\n",
       "        32, 71, 36, 13, 17,  0, 27, 37,  3, 40, 34,  9,  2, 25, 24, 26,\n",
       "        29, 30, 35, 48, 28, 10, 16, 47, 46, 52, 49, 67, 63, 23, 39, 45,\n",
       "        33, 55, 62, 61, 38, 73, 43, 53, 54, 41, 56, 58, 78, 44, 66, 59,\n",
       "        70, 65, 68, 81, 51, 42, 83, 84, 88, 64, 87, 99, 91, 92, 50, 76,\n",
       "        86, 72, 75, 82, 57, 80, 69, 98, 60, 90, 74, 77, 94, 89, 97, 95,\n",
       "        85, 79, 93, 96])"
      ]
     },
     "execution_count": 55,
     "metadata": {},
     "output_type": "execute_result"
    }
   ],
   "source": [
    "np.argsort(fp_all[:100])"
   ]
  },
  {
   "cell_type": "code",
   "execution_count": 63,
   "id": "numeric-shopper",
   "metadata": {},
   "outputs": [
    {
     "name": "stdout",
     "output_type": "stream",
     "text": [
      "(3792100,)\n",
      "3792100\n"
     ]
    }
   ],
   "source": [
    "print(fp_all[fp_all != ''].shape)\n",
    "print(1122100+564200+1050500+160300+895000)"
   ]
  },
  {
   "cell_type": "code",
   "execution_count": 62,
   "id": "quiet-cedar",
   "metadata": {},
   "outputs": [
    {
     "data": {
      "text/plain": [
       "array(['1', '10', '100', ..., '9999997', '9999998', '9999999'],\n",
       "      dtype='<U64')"
      ]
     },
     "execution_count": 62,
     "metadata": {},
     "output_type": "execute_result"
    }
   ],
   "source": [
    "fp_all[fp_all != ''][np.argsort(fp_all[fp_all != ''])]"
   ]
  },
  {
   "cell_type": "code",
   "execution_count": null,
   "id": "environmental-ministry",
   "metadata": {},
   "outputs": [],
   "source": []
  }
 ],
 "metadata": {
  "kernelspec": {
   "display_name": "Python 3",
   "language": "python",
   "name": "python3"
  },
  "language_info": {
   "codemirror_mode": {
    "name": "ipython",
    "version": 3
   },
   "file_extension": ".py",
   "mimetype": "text/x-python",
   "name": "python",
   "nbconvert_exporter": "python",
   "pygments_lexer": "ipython3",
   "version": "3.8.8"
  }
 },
 "nbformat": 4,
 "nbformat_minor": 5
}
